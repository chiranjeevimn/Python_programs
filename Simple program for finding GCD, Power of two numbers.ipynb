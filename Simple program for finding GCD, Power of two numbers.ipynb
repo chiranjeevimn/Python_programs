{
 "cells": [
  {
   "cell_type": "code",
   "execution_count": 1,
   "id": "1d9be628",
   "metadata": {},
   "outputs": [
    {
     "name": "stdout",
     "output_type": "stream",
     "text": [
      "enter the number4\n",
      "enter the number2\n",
      "power is 16 16.0\n"
     ]
    }
   ],
   "source": [
    "#Program to find power.\n",
    "import math\n",
    "base=int(input(\"enter the number\"))\n",
    "quotient=int(input(\"enter the number\"))\n",
    "powe=base**quotient\n",
    "a=math.pow(base,quotient)\n",
    "print(\"power is\",powe,a)"
   ]
  },
  {
   "cell_type": "code",
   "execution_count": 2,
   "id": "d9037595",
   "metadata": {},
   "outputs": [
    {
     "name": "stdout",
     "output_type": "stream",
     "text": [
      "enter the number4\n",
      "entr the number6\n",
      "gcd of two number is 2\n"
     ]
    }
   ],
   "source": [
    "#program to find gcd.\n",
    "a=int(input(\"enter the number\"))\n",
    "b=int(input(\"entr the number\"))\n",
    "gcd=math.gcd(a,b)\n",
    "print(\"gcd of two number is\",gcd)"
   ]
  }
 ],
 "metadata": {
  "kernelspec": {
   "display_name": "Python 3",
   "language": "python",
   "name": "python3"
  },
  "language_info": {
   "codemirror_mode": {
    "name": "ipython",
    "version": 3
   },
   "file_extension": ".py",
   "mimetype": "text/x-python",
   "name": "python",
   "nbconvert_exporter": "python",
   "pygments_lexer": "ipython3",
   "version": "3.8.8"
  }
 },
 "nbformat": 4,
 "nbformat_minor": 5
}
