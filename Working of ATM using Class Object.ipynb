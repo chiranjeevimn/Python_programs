{
 "cells": [
  {
   "cell_type": "code",
   "execution_count": 13,
   "id": "97d619a1",
   "metadata": {},
   "outputs": [
    {
     "name": "stdout",
     "output_type": "stream",
     "text": [
      "enter the pin1234\n",
      "C for credit \n",
      " d for debit \n",
      " b for balance \n",
      " e  for exitc\n",
      "enter the amount1000\n",
      "after credit balance is\n",
      "the current balance is 6000\n",
      "C for credit \n",
      " d for debit \n",
      " b for balance \n",
      " e  for exitb\n",
      "the current balance is 6000\n",
      "the balance is None\n",
      "C for credit \n",
      " d for debit \n",
      " b for balance \n",
      " e  for exitd\n",
      "enter the amount1222\n",
      "debit amount is balance is\n",
      "the current balance is 4778\n",
      "C for credit \n",
      " d for debit \n",
      " b for balance \n",
      " e  for exite\n"
     ]
    }
   ],
   "source": [
    "class bankatm:\n",
    "    bal=5000\n",
    "    def login(self,pin):\n",
    "        if pin==1234:\n",
    "            return True\n",
    "        else:\n",
    "            return False\n",
    "    def credit(self,amt):\n",
    "        self.bal+=amt\n",
    "    def debit(self,amt):\n",
    "        self.bal-=amt\n",
    "    def show(self):\n",
    "        print(\"the current balance is \"+str(self.bal))\n",
    "obj=bankatm()\n",
    "if obj.login(int(input(\"enter the pin\"))):\n",
    "    while True:\n",
    "        o=input(\"C for credit \\n d for debit \\n b for balance \\n e  for exit\")\n",
    "        if o=='c' or o=='C':\n",
    "            obj.credit(int(input(\"enter the amount\")))\n",
    "            print(\"after credit balance is\")\n",
    "            obj.show()\n",
    "        elif o=='d' or o==\"D\":\n",
    "            amt=int(input(\"enter the amount\"))\n",
    "            if amt<=obj.bal:\n",
    "                obj.debit(amt)\n",
    "                print(\"debit amount is balance is\")\n",
    "                obj.show()\n",
    "            else:\n",
    "                printf(\"invalid amount\")\n",
    "                obj.show()\n",
    "        elif o=='b' or o==\"B\":\n",
    "            print(\"the balance is\",obj.show())\n",
    "        elif o==\"e\" or o=='E':\n",
    "            break\n",
    "else:\n",
    "    print(\"Invalid pin\")\n",
    "    \n",
    "    \n",
    "    \n",
    "    "
   ]
  },
  {
   "cell_type": "code",
   "execution_count": null,
   "id": "393bde7a",
   "metadata": {},
   "outputs": [],
   "source": []
  }
 ],
 "metadata": {
  "kernelspec": {
   "display_name": "Python 3",
   "language": "python",
   "name": "python3"
  },
  "language_info": {
   "codemirror_mode": {
    "name": "ipython",
    "version": 3
   },
   "file_extension": ".py",
   "mimetype": "text/x-python",
   "name": "python",
   "nbconvert_exporter": "python",
   "pygments_lexer": "ipython3",
   "version": "3.8.8"
  }
 },
 "nbformat": 4,
 "nbformat_minor": 5
}
