{
 "cells": [
  {
   "cell_type": "code",
   "execution_count": 11,
   "id": "542725c2",
   "metadata": {},
   "outputs": [
    {
     "name": "stdout",
     "output_type": "stream",
     "text": [
      "Enter the size of the list 5\n",
      "Enter the elements: 5 9 7 6 3 4 21 \n",
      "The elements are : [5, 9, 7, 6, 3]\n",
      "the largest element in the list is  9\n"
     ]
    }
   ],
   "source": [
    "n=int(input(\"Enter the size of the list \"))\n",
    "l=list(map(int,input(\"Enter the elements: \").split()))[:n]\n",
    "print(\"The elements are :\",l)\n",
    "large=l[0]\n",
    "for i in l:\n",
    "    if i>large:\n",
    "        large=i\n",
    "print(\"the largest element in the list is \",large)"
   ]
  },
  {
   "cell_type": "code",
   "execution_count": 12,
   "id": "e59cf953",
   "metadata": {},
   "outputs": [
    {
     "name": "stdout",
     "output_type": "stream",
     "text": [
      "Enter the size of the list 5 \n",
      "Enter the elements:  8 9 7 6 43 2 5 4\n",
      "The elements are : [8, 9, 7, 6, 43]\n",
      "largest element is 43\n"
     ]
    }
   ],
   "source": [
    "n=int(input(\"Enter the size of the list \"))\n",
    "l=list(map(int,input(\"Enter the elements: \").split()))[:n]\n",
    "print(\"The elements are :\",l)\n",
    "print(\"largest element is\",max(l))"
   ]
  },
  {
   "cell_type": "code",
   "execution_count": 16,
   "id": "d08c674e",
   "metadata": {},
   "outputs": [
    {
     "name": "stdout",
     "output_type": "stream",
     "text": [
      "Enter the size of the list 5\n",
      "Enter the elements: 1 4 7 8 5\n",
      "The elements are : [1, 4, 7, 8, 5]\n",
      "the sum of even  12  and odd number is  13  total  25\n"
     ]
    }
   ],
   "source": [
    "n=int(input(\"Enter the size of the list \"))\n",
    "l=list(map(int,input(\"Enter the elements: \").split()))[:n]\n",
    "print(\"The elements are :\",l)\n",
    "se=0\n",
    "so=0\n",
    "for i in l:\n",
    "    if i%2==0:\n",
    "        se+=i\n",
    "    else:\n",
    "        so+=i\n",
    "    total=se+so\n",
    "print(\"the sum of even \",se,\" and odd number is \",so,\" total \",total)"
   ]
  },
  {
   "cell_type": "code",
   "execution_count": 22,
   "id": "efece242",
   "metadata": {},
   "outputs": [
    {
     "name": "stdout",
     "output_type": "stream",
     "text": [
      "Enter the size of the list 5\n",
      "Enter the elements: 1 5 8 4 3 6\n",
      "The elements are : [1, 5, 8, 4, 3]\n",
      "Enter the element to seach 8\n",
      "element found 2\n"
     ]
    }
   ],
   "source": [
    "flag=0\n",
    "n=int(input(\"Enter the size of the list \"))\n",
    "l=list(map(int,input(\"Enter the elements: \").split()))[:n]\n",
    "print(\"The elements are :\",l)\n",
    "a=int(input(\"Enter the element to seach \"))\n",
    "for i in range(0,n):\n",
    "    if(a==l[i]):\n",
    "        flag=1\n",
    "        break\n",
    "if(flag==1):\n",
    "    print(\"element found\",format(i))\n",
    "else:\n",
    "    print(\"element not found\")"
   ]
  },
  {
   "cell_type": "code",
   "execution_count": null,
   "id": "3bc649b7",
   "metadata": {},
   "outputs": [],
   "source": []
  },
  {
   "cell_type": "code",
   "execution_count": null,
   "id": "f1c88860",
   "metadata": {},
   "outputs": [],
   "source": []
  }
 ],
 "metadata": {
  "kernelspec": {
   "display_name": "Python 3",
   "language": "python",
   "name": "python3"
  },
  "language_info": {
   "codemirror_mode": {
    "name": "ipython",
    "version": 3
   },
   "file_extension": ".py",
   "mimetype": "text/x-python",
   "name": "python",
   "nbconvert_exporter": "python",
   "pygments_lexer": "ipython3",
   "version": "3.8.8"
  }
 },
 "nbformat": 4,
 "nbformat_minor": 5
}
